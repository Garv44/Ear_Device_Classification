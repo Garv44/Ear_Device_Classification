{
  "nbformat": 4,
  "nbformat_minor": 0,
  "metadata": {
    "colab": {
      "name": "Ear_Device.ipynb",
      "provenance": [],
      "collapsed_sections": []
    },
    "kernelspec": {
      "name": "python3",
      "display_name": "Python 3"
    },
    "language_info": {
      "name": "python"
    },
    "accelerator": "GPU",
    "gpuClass": "standard"
  },
  "cells": [
    {
      "cell_type": "code",
      "execution_count": null,
      "metadata": {
        "id": "lQ4N9B6gUhlh"
      },
      "outputs": [],
      "source": [
        "import numpy as np\n",
        "import pandas as pd\n",
        "import tensorflow as tf\n",
        "from tensorflow.keras import models, layers\n",
        "import matplotlib.pyplot as plt\n",
        "import matplotlib.image as mpimg\n",
        "import os"
      ]
    },
    {
      "cell_type": "code",
      "source": [
        "from google.colab import drive\n",
        "drive.mount('/content/drive')"
      ],
      "metadata": {
        "id": "z4ykKtpIUiRt",
        "colab": {
          "base_uri": "https://localhost:8080/"
        },
        "outputId": "f0034b27-ac7f-46b0-f00f-d086dc7441ca"
      },
      "execution_count": null,
      "outputs": [
        {
          "output_type": "stream",
          "name": "stdout",
          "text": [
            "Drive already mounted at /content/drive; to attempt to forcibly remount, call drive.mount(\"/content/drive\", force_remount=True).\n"
          ]
        }
      ]
    },
    {
      "cell_type": "code",
      "source": [
        "dataset = tf.keras.utils.image_dataset_from_directory('/content/drive/MyDrive/ear device/',shuffle=True,\n",
        "    batch_size=25)"
      ],
      "metadata": {
        "id": "HOoJwEptYGzz",
        "colab": {
          "base_uri": "https://localhost:8080/"
        },
        "outputId": "2ac4ae1d-65c7-43c2-a176-75bfc01b7768"
      },
      "execution_count": null,
      "outputs": [
        {
          "output_type": "stream",
          "name": "stdout",
          "text": [
            "Found 2000 files belonging to 4 classes.\n"
          ]
        }
      ]
    },
    {
      "cell_type": "code",
      "source": [
        "class_names = dataset.class_names"
      ],
      "metadata": {
        "id": "bhMc7EbPZavj"
      },
      "execution_count": null,
      "outputs": []
    },
    {
      "cell_type": "code",
      "source": [
        "class_names"
      ],
      "metadata": {
        "id": "YXahAW0XZjnB",
        "colab": {
          "base_uri": "https://localhost:8080/"
        },
        "outputId": "456fe960-afd8-4944-ed66-780bd03a13fe"
      },
      "execution_count": null,
      "outputs": [
        {
          "output_type": "execute_result",
          "data": {
            "text/plain": [
              "['earbuds', 'earphone', 'headphone', 'neckband']"
            ]
          },
          "metadata": {},
          "execution_count": 18
        }
      ]
    },
    {
      "cell_type": "code",
      "source": [
        "def data_split(ds, train_split=0.8, val_split=0.1, test_split=0.1, shuffle=True, shuffle_size = 1000):\n",
        "    ds_size = len(ds)\n",
        "    if shuffle:\n",
        "        ds = ds.shuffle(shuffle_size, seed = 5)\n",
        "    \n",
        "    train_size = int(train_split * ds_size)\n",
        "    val_size = int(val_split * ds_size)\n",
        "    \n",
        "    train_ds = ds.take(train_size)\n",
        "    val_ds = ds.skip(train_size).take(val_size)\n",
        "    test_ds= ds.skip(train_size).skip(val_size)\n",
        "    \n",
        "    return train_ds, val_ds, test_ds"
      ],
      "metadata": {
        "id": "0nRGdeu-ZpHZ"
      },
      "execution_count": null,
      "outputs": []
    },
    {
      "cell_type": "code",
      "source": [
        "train_ds, val_ds, test_ds = data_split(dataset)"
      ],
      "metadata": {
        "id": "H4b2MuhGZ78o"
      },
      "execution_count": null,
      "outputs": []
    },
    {
      "cell_type": "code",
      "source": [
        "train_ds = train_ds.cache().shuffle(500).prefetch(buffer_size=tf.data.AUTOTUNE)\n",
        "val_ds = val_ds.cache().shuffle(500).prefetch(buffer_size=tf.data.AUTOTUNE)\n",
        "test_ds = test_ds.cache().shuffle(500).prefetch(buffer_size=tf.data.AUTOTUNE)"
      ],
      "metadata": {
        "id": "-VMGKV91aAzw"
      },
      "execution_count": null,
      "outputs": []
    },
    {
      "cell_type": "code",
      "source": [
        "resize_rescale = tf.keras.Sequential([\n",
        "    layers.experimental.preprocessing.Rescaling(256,256),\n",
        "    layers.experimental.preprocessing.Rescaling(1.0/255)\n",
        "])"
      ],
      "metadata": {
        "id": "F_EKGpc7aKpV"
      },
      "execution_count": null,
      "outputs": []
    },
    {
      "cell_type": "code",
      "source": [
        "data_aug = tf.keras.Sequential([\n",
        "    layers.experimental.preprocessing.RandomFlip(\"horizontal_and_vertical\"),\n",
        "    layers.experimental.preprocessing.RandomRotation(0.2)\n",
        "])"
      ],
      "metadata": {
        "id": "goib0g6eaObF"
      },
      "execution_count": null,
      "outputs": []
    },
    {
      "cell_type": "code",
      "source": [
        "#Model Building\n",
        "model = models.Sequential([\n",
        "    resize_rescale,\n",
        "    data_aug,\n",
        "    layers.Conv2D(32, (3, 3), activation='relu', input_shape = (32,256,256,3)),\n",
        "    layers.MaxPooling2D((2,2)),\n",
        "    layers.Conv2D(128, (3, 3), activation='relu'),\n",
        "    layers.MaxPooling2D((2,2)),\n",
        "    layers.Conv2D(64, (3, 3), activation='relu'),\n",
        "    layers.MaxPooling2D((2,2)),\n",
        "    layers.Conv2D(64, (3, 3), activation='relu'),\n",
        "    layers.MaxPooling2D((2,2)),\n",
        "    layers.Conv2D(64, (3, 3), activation='relu'),\n",
        "    layers.MaxPooling2D((2,2)),\n",
        "    layers.Flatten(),\n",
        "    layers.Dense(64, activation='relu'),\n",
        "    layers.Dense(6, activation='softmax')\n",
        "])\n",
        "model.build(input_shape = (32,256,256,3))"
      ],
      "metadata": {
        "id": "iIZOEMJ6aRNo"
      },
      "execution_count": null,
      "outputs": []
    },
    {
      "cell_type": "code",
      "source": [
        "model.compile(\n",
        "            optimizer='adam', \n",
        "            loss=tf.keras.losses.SparseCategoricalCrossentropy(from_logits= False), \n",
        "            metrics=['accuracy']\n",
        ")"
      ],
      "metadata": {
        "id": "ARW0dJ42aUX2"
      },
      "execution_count": null,
      "outputs": []
    },
    {
      "cell_type": "code",
      "source": [
        "history = model.fit(\n",
        "    train_ds, epochs=100, batch_size=30, verbose=1, validation_data=val_ds\n",
        ")"
      ],
      "metadata": {
        "colab": {
          "base_uri": "https://localhost:8080/"
        },
        "id": "-WiGvI_gaXHe",
        "outputId": "edf9cebb-a4e5-499b-f2af-95ea8aa81818"
      },
      "execution_count": null,
      "outputs": [
        {
          "output_type": "stream",
          "name": "stdout",
          "text": [
            "Epoch 1/100\n",
            "64/64 [==============================] - 15s 146ms/step - loss: 3.3187 - accuracy: 0.2962 - val_loss: 1.3265 - val_accuracy: 0.3950\n",
            "Epoch 2/100\n",
            "64/64 [==============================] - 5s 78ms/step - loss: 1.2481 - accuracy: 0.4125 - val_loss: 1.2273 - val_accuracy: 0.3900\n",
            "Epoch 3/100\n",
            "64/64 [==============================] - 5s 78ms/step - loss: 1.2001 - accuracy: 0.4363 - val_loss: 1.1594 - val_accuracy: 0.5000\n",
            "Epoch 4/100\n",
            "64/64 [==============================] - 5s 78ms/step - loss: 1.1433 - accuracy: 0.4619 - val_loss: 1.1050 - val_accuracy: 0.4950\n",
            "Epoch 5/100\n",
            "64/64 [==============================] - 5s 79ms/step - loss: 1.1239 - accuracy: 0.4919 - val_loss: 1.0739 - val_accuracy: 0.5500\n",
            "Epoch 6/100\n",
            "64/64 [==============================] - 5s 79ms/step - loss: 1.1129 - accuracy: 0.4969 - val_loss: 1.1246 - val_accuracy: 0.4900\n",
            "Epoch 7/100\n",
            "64/64 [==============================] - 5s 79ms/step - loss: 1.0569 - accuracy: 0.5288 - val_loss: 1.0273 - val_accuracy: 0.5500\n",
            "Epoch 8/100\n",
            "64/64 [==============================] - 5s 79ms/step - loss: 1.0299 - accuracy: 0.5275 - val_loss: 0.9973 - val_accuracy: 0.5950\n",
            "Epoch 9/100\n",
            "64/64 [==============================] - 5s 80ms/step - loss: 0.9836 - accuracy: 0.5681 - val_loss: 1.2370 - val_accuracy: 0.5300\n",
            "Epoch 10/100\n",
            "64/64 [==============================] - 5s 78ms/step - loss: 0.9623 - accuracy: 0.5744 - val_loss: 0.9340 - val_accuracy: 0.5900\n",
            "Epoch 11/100\n",
            "64/64 [==============================] - 5s 80ms/step - loss: 0.9184 - accuracy: 0.6119 - val_loss: 1.0412 - val_accuracy: 0.5850\n",
            "Epoch 12/100\n",
            "64/64 [==============================] - 5s 78ms/step - loss: 0.9316 - accuracy: 0.6050 - val_loss: 1.0192 - val_accuracy: 0.6050\n",
            "Epoch 13/100\n",
            "64/64 [==============================] - 5s 77ms/step - loss: 0.9111 - accuracy: 0.6125 - val_loss: 0.9119 - val_accuracy: 0.6200\n",
            "Epoch 14/100\n",
            "64/64 [==============================] - 5s 77ms/step - loss: 0.8609 - accuracy: 0.6363 - val_loss: 0.9877 - val_accuracy: 0.5600\n",
            "Epoch 15/100\n",
            "64/64 [==============================] - 5s 77ms/step - loss: 0.8694 - accuracy: 0.6319 - val_loss: 0.8930 - val_accuracy: 0.6450\n",
            "Epoch 16/100\n",
            "64/64 [==============================] - 5s 78ms/step - loss: 0.8728 - accuracy: 0.6187 - val_loss: 0.9576 - val_accuracy: 0.6050\n",
            "Epoch 17/100\n",
            "64/64 [==============================] - 5s 79ms/step - loss: 0.8602 - accuracy: 0.6400 - val_loss: 0.8743 - val_accuracy: 0.6400\n",
            "Epoch 18/100\n",
            "64/64 [==============================] - 5s 79ms/step - loss: 0.9163 - accuracy: 0.5969 - val_loss: 0.9166 - val_accuracy: 0.6350\n",
            "Epoch 19/100\n",
            "64/64 [==============================] - 5s 79ms/step - loss: 0.8253 - accuracy: 0.6669 - val_loss: 0.9215 - val_accuracy: 0.6200\n",
            "Epoch 20/100\n",
            "64/64 [==============================] - 5s 79ms/step - loss: 0.8332 - accuracy: 0.6600 - val_loss: 0.8276 - val_accuracy: 0.6450\n",
            "Epoch 21/100\n",
            "64/64 [==============================] - 5s 78ms/step - loss: 0.8184 - accuracy: 0.6444 - val_loss: 0.8722 - val_accuracy: 0.6400\n",
            "Epoch 22/100\n",
            "64/64 [==============================] - 5s 78ms/step - loss: 0.7848 - accuracy: 0.6712 - val_loss: 0.7960 - val_accuracy: 0.6700\n",
            "Epoch 23/100\n",
            "64/64 [==============================] - 5s 78ms/step - loss: 0.7638 - accuracy: 0.6950 - val_loss: 0.8241 - val_accuracy: 0.6850\n",
            "Epoch 24/100\n",
            "64/64 [==============================] - 5s 78ms/step - loss: 0.7698 - accuracy: 0.6844 - val_loss: 0.7560 - val_accuracy: 0.6800\n",
            "Epoch 25/100\n",
            "64/64 [==============================] - 5s 78ms/step - loss: 0.7659 - accuracy: 0.7000 - val_loss: 0.7820 - val_accuracy: 0.6700\n",
            "Epoch 26/100\n",
            "64/64 [==============================] - 5s 78ms/step - loss: 0.7300 - accuracy: 0.7100 - val_loss: 0.7117 - val_accuracy: 0.7300\n",
            "Epoch 27/100\n",
            "64/64 [==============================] - 5s 80ms/step - loss: 0.7368 - accuracy: 0.7088 - val_loss: 0.7137 - val_accuracy: 0.7300\n",
            "Epoch 28/100\n",
            "64/64 [==============================] - 5s 77ms/step - loss: 0.7222 - accuracy: 0.7050 - val_loss: 0.7422 - val_accuracy: 0.6850\n",
            "Epoch 29/100\n",
            "64/64 [==============================] - 5s 77ms/step - loss: 0.7326 - accuracy: 0.7125 - val_loss: 0.6807 - val_accuracy: 0.7200\n",
            "Epoch 30/100\n",
            "64/64 [==============================] - 5s 77ms/step - loss: 0.7106 - accuracy: 0.7237 - val_loss: 0.7044 - val_accuracy: 0.7150\n",
            "Epoch 31/100\n",
            "64/64 [==============================] - 5s 78ms/step - loss: 0.6936 - accuracy: 0.7256 - val_loss: 0.6915 - val_accuracy: 0.7150\n",
            "Epoch 32/100\n",
            "64/64 [==============================] - 5s 77ms/step - loss: 0.6829 - accuracy: 0.7394 - val_loss: 0.6567 - val_accuracy: 0.7100\n",
            "Epoch 33/100\n",
            "64/64 [==============================] - 5s 77ms/step - loss: 0.6711 - accuracy: 0.7538 - val_loss: 0.6073 - val_accuracy: 0.7750\n",
            "Epoch 34/100\n",
            "64/64 [==============================] - 5s 77ms/step - loss: 0.6783 - accuracy: 0.7387 - val_loss: 0.6513 - val_accuracy: 0.7500\n",
            "Epoch 35/100\n",
            "64/64 [==============================] - 5s 77ms/step - loss: 0.6851 - accuracy: 0.7262 - val_loss: 0.6976 - val_accuracy: 0.7650\n",
            "Epoch 36/100\n",
            "64/64 [==============================] - 5s 78ms/step - loss: 0.6767 - accuracy: 0.7287 - val_loss: 0.5731 - val_accuracy: 0.7850\n",
            "Epoch 37/100\n",
            "64/64 [==============================] - 5s 78ms/step - loss: 0.6772 - accuracy: 0.7387 - val_loss: 0.6433 - val_accuracy: 0.7450\n",
            "Epoch 38/100\n",
            "64/64 [==============================] - 5s 77ms/step - loss: 0.6729 - accuracy: 0.7331 - val_loss: 0.6196 - val_accuracy: 0.7600\n",
            "Epoch 39/100\n",
            "64/64 [==============================] - 5s 78ms/step - loss: 0.6283 - accuracy: 0.7500 - val_loss: 0.5862 - val_accuracy: 0.7850\n",
            "Epoch 40/100\n",
            "64/64 [==============================] - 5s 79ms/step - loss: 0.6183 - accuracy: 0.7631 - val_loss: 0.5124 - val_accuracy: 0.8050\n",
            "Epoch 41/100\n",
            "64/64 [==============================] - 5s 79ms/step - loss: 0.6219 - accuracy: 0.7606 - val_loss: 0.5977 - val_accuracy: 0.7900\n",
            "Epoch 42/100\n",
            "64/64 [==============================] - 5s 79ms/step - loss: 0.6268 - accuracy: 0.7400 - val_loss: 0.5542 - val_accuracy: 0.7800\n",
            "Epoch 43/100\n",
            "64/64 [==============================] - 5s 80ms/step - loss: 0.6172 - accuracy: 0.7631 - val_loss: 0.6232 - val_accuracy: 0.7600\n",
            "Epoch 44/100\n",
            "64/64 [==============================] - 5s 82ms/step - loss: 0.5872 - accuracy: 0.7638 - val_loss: 0.5480 - val_accuracy: 0.8050\n",
            "Epoch 45/100\n",
            "64/64 [==============================] - 5s 79ms/step - loss: 0.6112 - accuracy: 0.7675 - val_loss: 0.5027 - val_accuracy: 0.7950\n",
            "Epoch 46/100\n",
            "64/64 [==============================] - 5s 78ms/step - loss: 0.6097 - accuracy: 0.7606 - val_loss: 0.5552 - val_accuracy: 0.7950\n",
            "Epoch 47/100\n",
            "64/64 [==============================] - 5s 78ms/step - loss: 0.6134 - accuracy: 0.7613 - val_loss: 0.5299 - val_accuracy: 0.7800\n",
            "Epoch 48/100\n",
            "64/64 [==============================] - 5s 79ms/step - loss: 0.5704 - accuracy: 0.7844 - val_loss: 0.5386 - val_accuracy: 0.7700\n",
            "Epoch 49/100\n",
            "64/64 [==============================] - 5s 79ms/step - loss: 0.5944 - accuracy: 0.7700 - val_loss: 0.4626 - val_accuracy: 0.8000\n",
            "Epoch 50/100\n",
            "64/64 [==============================] - 5s 80ms/step - loss: 0.6160 - accuracy: 0.7569 - val_loss: 0.5192 - val_accuracy: 0.8050\n",
            "Epoch 51/100\n",
            "64/64 [==============================] - 5s 79ms/step - loss: 0.5942 - accuracy: 0.7625 - val_loss: 0.5044 - val_accuracy: 0.8150\n",
            "Epoch 52/100\n",
            "64/64 [==============================] - 5s 79ms/step - loss: 0.6161 - accuracy: 0.7513 - val_loss: 0.5572 - val_accuracy: 0.7450\n",
            "Epoch 53/100\n",
            "64/64 [==============================] - 5s 79ms/step - loss: 0.5916 - accuracy: 0.7719 - val_loss: 0.4777 - val_accuracy: 0.7950\n",
            "Epoch 54/100\n",
            "64/64 [==============================] - 5s 79ms/step - loss: 0.5689 - accuracy: 0.7744 - val_loss: 0.4998 - val_accuracy: 0.8000\n",
            "Epoch 55/100\n",
            "64/64 [==============================] - 5s 79ms/step - loss: 0.5716 - accuracy: 0.7794 - val_loss: 0.5653 - val_accuracy: 0.7950\n",
            "Epoch 56/100\n",
            "64/64 [==============================] - 5s 78ms/step - loss: 0.5435 - accuracy: 0.7875 - val_loss: 0.5118 - val_accuracy: 0.7750\n",
            "Epoch 57/100\n",
            "64/64 [==============================] - 5s 78ms/step - loss: 0.5350 - accuracy: 0.7912 - val_loss: 0.4992 - val_accuracy: 0.8300\n",
            "Epoch 58/100\n",
            "64/64 [==============================] - 5s 78ms/step - loss: 0.5369 - accuracy: 0.7969 - val_loss: 0.4659 - val_accuracy: 0.8000\n",
            "Epoch 59/100\n",
            "64/64 [==============================] - 5s 78ms/step - loss: 0.5384 - accuracy: 0.7900 - val_loss: 0.5264 - val_accuracy: 0.7950\n",
            "Epoch 60/100\n",
            "64/64 [==============================] - 5s 80ms/step - loss: 0.5179 - accuracy: 0.7969 - val_loss: 0.4838 - val_accuracy: 0.8150\n",
            "Epoch 61/100\n",
            "64/64 [==============================] - 5s 78ms/step - loss: 0.5334 - accuracy: 0.8050 - val_loss: 0.4393 - val_accuracy: 0.8200\n",
            "Epoch 62/100\n",
            "64/64 [==============================] - 5s 79ms/step - loss: 0.4943 - accuracy: 0.8075 - val_loss: 0.4350 - val_accuracy: 0.8400\n",
            "Epoch 63/100\n",
            "64/64 [==============================] - 5s 79ms/step - loss: 0.5416 - accuracy: 0.7894 - val_loss: 0.4616 - val_accuracy: 0.8400\n",
            "Epoch 64/100\n",
            "64/64 [==============================] - 5s 79ms/step - loss: 0.5391 - accuracy: 0.7837 - val_loss: 0.4746 - val_accuracy: 0.8200\n",
            "Epoch 65/100\n",
            "64/64 [==============================] - 5s 78ms/step - loss: 0.5233 - accuracy: 0.8056 - val_loss: 0.4400 - val_accuracy: 0.8150\n",
            "Epoch 66/100\n",
            "64/64 [==============================] - 5s 79ms/step - loss: 0.5016 - accuracy: 0.8081 - val_loss: 0.4626 - val_accuracy: 0.8500\n",
            "Epoch 67/100\n",
            "64/64 [==============================] - 5s 79ms/step - loss: 0.4743 - accuracy: 0.8106 - val_loss: 0.4412 - val_accuracy: 0.8450\n",
            "Epoch 68/100\n",
            "64/64 [==============================] - 5s 79ms/step - loss: 0.5165 - accuracy: 0.8081 - val_loss: 0.5251 - val_accuracy: 0.7900\n",
            "Epoch 69/100\n",
            "64/64 [==============================] - 5s 79ms/step - loss: 0.5062 - accuracy: 0.8125 - val_loss: 0.5486 - val_accuracy: 0.8000\n",
            "Epoch 70/100\n",
            "64/64 [==============================] - 5s 79ms/step - loss: 0.5211 - accuracy: 0.7975 - val_loss: 0.5537 - val_accuracy: 0.8000\n",
            "Epoch 71/100\n",
            "64/64 [==============================] - 5s 79ms/step - loss: 0.4978 - accuracy: 0.8112 - val_loss: 0.5088 - val_accuracy: 0.8250\n",
            "Epoch 72/100\n",
            "64/64 [==============================] - 5s 79ms/step - loss: 0.5057 - accuracy: 0.8119 - val_loss: 0.4027 - val_accuracy: 0.8400\n",
            "Epoch 73/100\n",
            "64/64 [==============================] - 5s 80ms/step - loss: 0.4756 - accuracy: 0.8231 - val_loss: 0.3715 - val_accuracy: 0.8800\n",
            "Epoch 74/100\n",
            "64/64 [==============================] - 5s 79ms/step - loss: 0.4448 - accuracy: 0.8331 - val_loss: 0.4728 - val_accuracy: 0.8200\n",
            "Epoch 75/100\n",
            "64/64 [==============================] - 5s 79ms/step - loss: 0.5011 - accuracy: 0.8106 - val_loss: 0.5085 - val_accuracy: 0.8000\n",
            "Epoch 76/100\n",
            "64/64 [==============================] - 5s 80ms/step - loss: 0.5035 - accuracy: 0.8075 - val_loss: 0.4493 - val_accuracy: 0.8450\n",
            "Epoch 77/100\n",
            "64/64 [==============================] - 5s 79ms/step - loss: 0.4970 - accuracy: 0.8062 - val_loss: 0.5469 - val_accuracy: 0.8050\n",
            "Epoch 78/100\n",
            "64/64 [==============================] - 5s 78ms/step - loss: 0.4829 - accuracy: 0.8188 - val_loss: 0.3873 - val_accuracy: 0.8500\n",
            "Epoch 79/100\n",
            "64/64 [==============================] - 5s 78ms/step - loss: 0.4318 - accuracy: 0.8338 - val_loss: 0.4644 - val_accuracy: 0.8300\n",
            "Epoch 80/100\n",
            "64/64 [==============================] - 5s 77ms/step - loss: 0.5016 - accuracy: 0.8206 - val_loss: 0.4239 - val_accuracy: 0.8850\n",
            "Epoch 81/100\n",
            "64/64 [==============================] - 5s 78ms/step - loss: 0.5026 - accuracy: 0.8150 - val_loss: 0.4970 - val_accuracy: 0.8200\n",
            "Epoch 82/100\n",
            "64/64 [==============================] - 5s 78ms/step - loss: 0.4826 - accuracy: 0.8175 - val_loss: 0.4495 - val_accuracy: 0.8550\n",
            "Epoch 83/100\n",
            "64/64 [==============================] - 5s 77ms/step - loss: 0.4750 - accuracy: 0.8131 - val_loss: 0.4215 - val_accuracy: 0.8500\n",
            "Epoch 84/100\n",
            "64/64 [==============================] - 5s 78ms/step - loss: 0.4601 - accuracy: 0.8188 - val_loss: 0.4245 - val_accuracy: 0.8550\n",
            "Epoch 85/100\n",
            "64/64 [==============================] - 5s 77ms/step - loss: 0.4270 - accuracy: 0.8350 - val_loss: 0.4161 - val_accuracy: 0.8450\n",
            "Epoch 86/100\n",
            "64/64 [==============================] - 5s 78ms/step - loss: 0.4538 - accuracy: 0.8238 - val_loss: 0.5005 - val_accuracy: 0.8250\n",
            "Epoch 87/100\n",
            "64/64 [==============================] - 5s 78ms/step - loss: 0.4464 - accuracy: 0.8281 - val_loss: 0.3988 - val_accuracy: 0.8550\n",
            "Epoch 88/100\n",
            "64/64 [==============================] - 5s 78ms/step - loss: 0.4311 - accuracy: 0.8363 - val_loss: 0.4046 - val_accuracy: 0.8450\n",
            "Epoch 89/100\n",
            "64/64 [==============================] - 5s 78ms/step - loss: 0.4011 - accuracy: 0.8469 - val_loss: 0.4277 - val_accuracy: 0.8350\n",
            "Epoch 90/100\n",
            "64/64 [==============================] - 5s 78ms/step - loss: 0.4821 - accuracy: 0.8031 - val_loss: 0.3975 - val_accuracy: 0.8700\n",
            "Epoch 91/100\n",
            "64/64 [==============================] - 5s 78ms/step - loss: 0.4590 - accuracy: 0.8181 - val_loss: 0.4128 - val_accuracy: 0.8500\n",
            "Epoch 92/100\n",
            "64/64 [==============================] - 5s 78ms/step - loss: 0.4315 - accuracy: 0.8331 - val_loss: 0.4487 - val_accuracy: 0.8400\n",
            "Epoch 93/100\n",
            "64/64 [==============================] - 5s 80ms/step - loss: 0.4139 - accuracy: 0.8431 - val_loss: 0.3467 - val_accuracy: 0.8750\n",
            "Epoch 94/100\n",
            "64/64 [==============================] - 5s 78ms/step - loss: 0.4062 - accuracy: 0.8431 - val_loss: 0.3712 - val_accuracy: 0.8700\n",
            "Epoch 95/100\n",
            "64/64 [==============================] - 5s 77ms/step - loss: 0.4192 - accuracy: 0.8413 - val_loss: 0.4072 - val_accuracy: 0.8650\n",
            "Epoch 96/100\n",
            "64/64 [==============================] - 5s 77ms/step - loss: 0.4027 - accuracy: 0.8512 - val_loss: 0.4169 - val_accuracy: 0.8550\n",
            "Epoch 97/100\n",
            "64/64 [==============================] - 5s 78ms/step - loss: 0.4133 - accuracy: 0.8512 - val_loss: 0.4007 - val_accuracy: 0.8300\n",
            "Epoch 98/100\n",
            "64/64 [==============================] - 5s 78ms/step - loss: 0.4028 - accuracy: 0.8388 - val_loss: 0.3729 - val_accuracy: 0.8650\n",
            "Epoch 99/100\n",
            "64/64 [==============================] - 5s 77ms/step - loss: 0.4114 - accuracy: 0.8369 - val_loss: 0.3699 - val_accuracy: 0.8600\n",
            "Epoch 100/100\n",
            "64/64 [==============================] - 5s 77ms/step - loss: 0.4075 - accuracy: 0.8456 - val_loss: 0.3372 - val_accuracy: 0.8800\n"
          ]
        }
      ]
    },
    {
      "cell_type": "code",
      "source": [
        "for images_batch, labels_batch in test_ds.take(1):\n",
        "    \n",
        "    first_image = images_batch[4].numpy().astype('uint8')\n",
        "    first_label = labels_batch[4].numpy()\n",
        "    plt.imshow(first_image)\n",
        "    print(\"Original Label:\", class_names[first_label])\n",
        "    \n",
        "    \n",
        "    batch_predict = model.predict(images_batch)\n",
        "    print('Predicted Image:', class_names[np.argmax(batch_predict[4])])"
      ],
      "metadata": {
        "id": "Q2clenKMcf0M",
        "colab": {
          "base_uri": "https://localhost:8080/",
          "height": 304
        },
        "outputId": "7e46b9ca-b849-4bc9-b8ac-35f02e722774"
      },
      "execution_count": null,
      "outputs": [
        {
          "output_type": "stream",
          "name": "stdout",
          "text": [
            "Original Label: headphone\n",
            "Predicted Image: headphone\n"
          ]
        },
        {
          "output_type": "display_data",
          "data": {
            "text/plain": [
              "<Figure size 432x288 with 1 Axes>"
            ],
            "image/png": "[encoded data removed]"
          },
          "metadata": {
            "needs_background": "light"
          }
        }
      ]
    },
    {
      "cell_type": "code",
      "source": [
        ""
      ],
      "metadata": {
        "id": "hP-ARUxFci0b"
      },
      "execution_count": null,
      "outputs": []
    }
  ]
}